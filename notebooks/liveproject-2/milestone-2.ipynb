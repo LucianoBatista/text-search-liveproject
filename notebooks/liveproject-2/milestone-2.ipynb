{
 "cells": [
  {
   "attachments": {},
   "cell_type": "markdown",
   "metadata": {},
   "source": [
    "### 1. Import Libs"
   ]
  },
  {
   "cell_type": "code",
   "execution_count": 1,
   "metadata": {},
   "outputs": [
    {
     "name": "stderr",
     "output_type": "stream",
     "text": [
      "2022-12-12 05:12:20.011006: I tensorflow/core/platform/cpu_feature_guard.cc:193] This TensorFlow binary is optimized with oneAPI Deep Neural Network Library (oneDNN) to use the following CPU instructions in performance-critical operations:  AVX2 FMA\n",
      "To enable them in other operations, rebuild TensorFlow with the appropriate compiler flags.\n",
      "2022-12-12 05:12:20.085987: W tensorflow/compiler/xla/stream_executor/platform/default/dso_loader.cc:64] Could not load dynamic library 'libcudart.so.11.0'; dlerror: libcudart.so.11.0: cannot open shared object file: No such file or directory\n",
      "2022-12-12 05:12:20.085999: I tensorflow/compiler/xla/stream_executor/cuda/cudart_stub.cc:29] Ignore above cudart dlerror if you do not have a GPU set up on your machine.\n",
      "2022-12-12 05:12:20.527441: W tensorflow/compiler/xla/stream_executor/platform/default/dso_loader.cc:64] Could not load dynamic library 'libnvinfer.so.7'; dlerror: libnvinfer.so.7: cannot open shared object file: No such file or directory\n",
      "2022-12-12 05:12:20.527475: W tensorflow/compiler/xla/stream_executor/platform/default/dso_loader.cc:64] Could not load dynamic library 'libnvinfer_plugin.so.7'; dlerror: libnvinfer_plugin.so.7: cannot open shared object file: No such file or directory\n",
      "2022-12-12 05:12:20.527480: W tensorflow/compiler/tf2tensorrt/utils/py_utils.cc:38] TF-TRT Warning: Cannot dlopen some TensorRT libraries. If you would like to use Nvidia GPU with TensorRT, please make sure the missing libraries mentioned above are installed properly.\n"
     ]
    }
   ],
   "source": [
    "import json\n",
    "from transformers import DistilBertTokenizer, DistilBertModel\n",
    "from sentence_transformers import SentenceTransformer\n",
    "import faiss\n",
    "import torch\n",
    "import numpy as np"
   ]
  },
  {
   "attachments": {},
   "cell_type": "markdown",
   "metadata": {},
   "source": [
    "### 2. Load data"
   ]
  },
  {
   "cell_type": "code",
   "execution_count": 2,
   "metadata": {},
   "outputs": [
    {
     "data": {
      "text/plain": [
       "{'title': 'Pandemic',\n",
       " 'text': 'A pandemic (from Greek πᾶν, pan, \"all\" and δῆμος, demos, \"people\") is an epidemic of an infectious disease that has spread across a large region, for instance multiple continents or worldwide, affecting a substantial number of people. A widespread endemic disease with a stable number of infected people is not a pandemic. Widespread endemic diseases with a stable number of infected people such as recurrences of seasonal influenza are generally excluded as they occur simultaneously in large regions of the globe rather than being spread worldwide.\\nThroughout human history, there have been a number of pandemics of diseases such as smallpox and tuberculosis. The most fatal pandemic in recorded history was the Black Death (also known as The Plague), which killed an estimated 75–200 million people in the 14th century. The term was not used yet but was for later pandemics including the 1918 influenza pandemic (Spanish flu). Current pandemics include COVID-19 (SARS-CoV-2) and HIV/AIDS.',\n",
       " 'url': 'https://en.wikipedia.org/wiki/Pandemic'}"
      ]
     },
     "execution_count": 2,
     "metadata": {},
     "output_type": "execute_result"
    }
   ],
   "source": [
    "with open('data/data.json', 'r') as j:\n",
    "    sentences = json.load(j)\n",
    "\n",
    "sentences[0]"
   ]
  },
  {
   "cell_type": "markdown",
   "metadata": {},
   "source": [
    "### 3. Creating Embeddings"
   ]
  },
  {
   "cell_type": "code",
   "execution_count": 23,
   "metadata": {},
   "outputs": [],
   "source": [
    "model = SentenceTransformer('all-MiniLM-L6-v2')\n",
    "\n",
    "for sentence in sentences:\n",
    "    sentence[\"embeddings\"] = model.encode(sentence[\"text\"], device='cuda', convert_to_numpy=False)"
   ]
  },
  {
   "cell_type": "code",
   "execution_count": 24,
   "metadata": {},
   "outputs": [
    {
     "data": {
      "text/plain": [
       "torch.Size([384])"
      ]
     },
     "execution_count": 24,
     "metadata": {},
     "output_type": "execute_result"
    }
   ],
   "source": [
    "# looking at the sentence\n",
    "sentences[2][\"embeddings\"].shape"
   ]
  },
  {
   "attachments": {},
   "cell_type": "markdown",
   "metadata": {},
   "source": [
    "Curiously, this model (`all-MiniLM-L6-v2`) return just 384 size vector. Differently from the original transformer that has a $d_{model}=512$"
   ]
  },
  {
   "attachments": {},
   "cell_type": "markdown",
   "metadata": {},
   "source": [
    "### 4. Create and populate a FAISS index with those embeddings."
   ]
  },
  {
   "cell_type": "code",
   "execution_count": 27,
   "metadata": {},
   "outputs": [],
   "source": [
    "index = faiss.IndexIDMap(faiss.IndexFlatIP(384))\n",
    "\n",
    "index.add_with_ids(\n",
    "    np.array([sentence[\"embeddings\"].cpu().numpy() for sentence in sentences]),\n",
    "    np.array(range(0, len(sentences)))\n",
    ")"
   ]
  },
  {
   "cell_type": "markdown",
   "metadata": {},
   "source": [
    "### 5. Write a search function"
   ]
  },
  {
   "cell_type": "code",
   "execution_count": 34,
   "metadata": {},
   "outputs": [],
   "source": [
    "def search(query: str, k=1):\n",
    "    encoded_query = model.encode(query, device=\"cuda\", convert_to_numpy=False).unsqueeze(dim=0).cpu().numpy()\n",
    "    print(encoded_query.shape)\n",
    "    top_k = index.search(encoded_query, k)\n",
    "    scores = top_k[0][0]\n",
    "    results = [sentences[_id] for _id in top_k[1][0]]\n",
    "    return list(zip(results, scores))"
   ]
  },
  {
   "cell_type": "markdown",
   "metadata": {},
   "source": [
    "### 6. Testing"
   ]
  },
  {
   "cell_type": "code",
   "execution_count": 39,
   "metadata": {},
   "outputs": [
    {
     "name": "stdout",
     "output_type": "stream",
     "text": [
      "(1, 384)\n",
      "Swine influenza is an infection caused by any one of several types of swine influenza viruses. Swine influenza virus (SIV) or swine-origin influenza virus (S-OIV) is any strain of the influenza family of viruses that is endemic in pigs. As of 2009, the known SIV strains include influenza C and the subtypes of  influenza A known as H1N1, H1N2, H2N1, H3N1, H3N2, and H2N3.\n",
      "Swine influenza virus is common throughout pig populations worldwide. Transmission of the virus from pigs to humans is not common and does not always lead to human flu, often resulting only in the production of antibodies in the blood. If transmission does cause human flu, it is called zoonotic swine flu. People with regular exposure to pigs are at increased risk of swine flu infection.\n",
      "Around the mid-20th century, identification of influenza subtypes became possible, allowing accurate diagnosis of transmission to humans. Since then, only 50 such transmissions have been confirmed. These strains of swine flu rarely pass from human to human. Symptoms of zoonotic swine flu in humans are similar to those of influenza and of influenza-like illness in general, namely chills, fever, sore throat, muscle pains, severe headache, coughing, weakness, shortness of breath, and general discomfort.\n",
      "It is estimated that in the 2009 flu pandemic 11–21% of the then global population (of about 6.8 billion), or around 700 million to 1.4 billion people, contracted the illness—more in absolute terms than the Spanish flu pandemic. Actual fatalities ranged between 12,000 and 18,000. However, in a 2012 study, the CDC estimated more than 284,000 possible fatalities worldwide, with range from 150,000 to 575,000.\n",
      "In August 2010, the World Health Organization declared the swine flu pandemic officially over.Subsequent cases of swine flu were reported in India in 2015, with over 31,156 positive test cases and 1,841 deaths up to March 2015. 0.4285493\n",
      "---\n",
      "The People's Republic of China's first reported AIDS case was identified in 1985 in a dying tourist. In 1989, the first indigenous cases were reported as an outbreak in 146 infected heroin users in Yunnan province, near China's southwest border.Yunnan is the area most affected by HIV/AIDS in China. In 1989 first infections appeared among needle sharing drug users near the Burmese border. Up until 1993, the disease had remained a problem in the border areas before mobile people (truck drivers, construction and migrant workers and travelers) brought the virus further into the country. In 1995, the provinces of Sichuan and Xinjiang reported their first HIV cases, and by 1998, the virus had spread all over China.\n",
      "Low awareness of the disease among China's general population appears to be a major culprit. Most Chinese consider HIV/AIDS as a foreign issue, and even educated people are less knowledgeable of the virus, its transmission and prevention, than people in other countries. Until recently, the use of condoms was not very common, even among sex workers and their clients. As a result, the epidemic has spread from high-risk groups (drug users, sex workers, unsafe blood donors) to the general population. 0.41881615\n",
      "---\n",
      "The 1929–1930 psittacosis pandemic, also known as the psittacosis outbreak of 1929–1930 and the great parrot fever pandemic, was a series of simultaneous outbreaks of psittacosis (parrot fever) which, accelerated by the breeding and transportation of birds in crowded containers for the purpose of trade, was initially seen to have its origin in parrots from South America. It was shortly found to have spread from several species of birds from several countries worldwide to humans between mid 1929 and early 1930. Diagnosed by its clinical features and link to birds, it affected around 750 to 800 people globally, with a mortality of 15%. Its mode of transmission to humans by mouth-to-beak contact or inhaling dried bird secretions and droppings was not known at the time. The cause, Chlamydia psittaci, which usually remains dormant in birds until activated by stress of capture and confinement, was discovered after the pandemic.\n",
      "Cases were reported in mid 1929, in Birmingham, United Kingdom, and linked to parrots from Buenos Aires, Argentina, where an ongoing outbreak of the disease had led to cautioning bird owners to declare their sick parrots. The origin of the outbreak in the Argentine city of Córdoba was traced to an import of 5,000 parrots from Brazil. Although the Argentine parrot trade was stopped, a number of birds were illegally sold on to visitors to its seaports, with the consequence that psittacosis was transmitted to several countries.\n",
      "In November 1929, reports of cases among an Argentine theatrical group in Córdoba made it into the local press. In January 1930, when cases of an atypical pneumonia in one family, with the death of their parrot, appeared in Maryland, United States, a link was made to the story of the theatrical group, and \"parrot fever\" made headlines in the American press. Following further cases, bans on parrot trades were implemented, and subsequently cases were reported in several other countries, including Germany, France and Australia. The origin was understood to have been the importation of green Amazon parrots from South America. Later, the principal source of the disease in the U.S. was domestic lovebirds raised in Californian aviaries, and sold to mainly housewives and widows.\n",
      "The impact of the outbreak on the U.S. Hygienic Laboratory, with 16 of its workers affected, including two deaths, led to the formation of the National Institute of Health. 0.40881172\n",
      "---\n",
      "A pandemic (from Greek πᾶν, pan, \"all\" and δῆμος, demos, \"people\") is an epidemic of an infectious disease that has spread across a large region, for instance multiple continents or worldwide, affecting a substantial number of people. A widespread endemic disease with a stable number of infected people is not a pandemic. Widespread endemic diseases with a stable number of infected people such as recurrences of seasonal influenza are generally excluded as they occur simultaneously in large regions of the globe rather than being spread worldwide.\n",
      "Throughout human history, there have been a number of pandemics of diseases such as smallpox and tuberculosis. The most fatal pandemic in recorded history was the Black Death (also known as The Plague), which killed an estimated 75–200 million people in the 14th century. The term was not used yet but was for later pandemics including the 1918 influenza pandemic (Spanish flu). Current pandemics include COVID-19 (SARS-CoV-2) and HIV/AIDS. 0.40464133\n",
      "---\n",
      "A superspreader is an unusually contagious organism infected with a disease. In the context of a human-borne illness, a superspreader is an individual who is more likely to infect others, compared with a typical infected person. Such superspreaders are of particular concern in epidemiology.\n",
      "Some cases of superspreading conform to the 80/20 rule, where approximately 20% of infected individuals are responsible for 80% of transmissions, although superspreading can still be said to occur when superspreaders account for a higher or lower percentage of transmissions.  In epidemics with such superspreader events (SSEV), the majority of individuals infect relatively few secondary contacts.SSEVs are shaped by multiple factors including a decline in herd immunity, nosocomial infections, virulence, viral load, misdiagnosis, airflow dynamics, immune suppression, and co-infection with another pathogen. 0.3829863\n",
      "---\n",
      "Targeted immunization strategies are approaches designed to increase the immunization level of populations and decrease the chances of epidemic outbreaks. Though often in regards to use in healthcare practices and the administration of vaccines to prevent biological epidemic outbreaks, these strategies refer in general to immunization schemes in complex networks, biological, social or artificial in nature. Identification of at-risk groups and individuals with higher odds of spreading the disease often plays an important role in these strategies. 0.375732\n",
      "---\n",
      "Disease X is a placeholder name that was adopted by the World Health Organization (WHO) in February 2018 on their shortlist of blueprint priority diseases to represent a hypothetical, unknown pathogen that could cause a future epidemic. The WHO adopted the placeholder name to ensure that their planning was sufficiently flexible to adapt to an unknown pathogen (e.g. broader vaccines and manufacturing facilities).  Director of the US National Institute of Allergy and Infectious Diseases Anthony Fauci stated that the concept of Disease X would encourage WHO projects to focus their research efforts on entire classes of viruses (e.g. flaviviruses), instead of just individual strains (e.g. zika virus), thus improving WHO capability to respond to unforeseen strains.  In 2020, it was speculated, including among some of the WHO's own expert advisors, that COVID-19, caused by SARS-CoV-2 virus strain, met the requirements to be the first Disease X. 0.37178385\n",
      "---\n",
      "Science diplomacy is the collaborative efforts by local and global entities to solve global issues using science and technology as a base. In science diplomacy, collaboration takes place to advance science but science can also be used to facilitate diplomatic relations. This allows even conflicting nations to come together through science to find solutions to global issues. Global organizations, researchers, public health officials, countries, government officials, and clinicians have previously worked together to create effective measures of infection control and subsequent treatment. They continue to do so through sharing of resources, research data, ideas, and by putting into effect laws and regulations that can further advance scientific research. Without the collaborative efforts of such entities, the world would not have the vaccines and treatments we now possess for diseases that were once considered deadly such as tuberculosis, tetanus, polio, influenza, etc. Historically, science diplomacy has proved successful in diseases such as SARS, Ebola, Zika and continues to be relevant during the COVID-19 pandemic today. 0.341195\n",
      "---\n",
      "In epidemiology, the basic reproduction number, or basic reproductive number (sometimes called basic reproduction ratio or basic reproductive rate), denoted \n",
      "  \n",
      "    \n",
      "      \n",
      "        \n",
      "          R\n",
      "          \n",
      "            0\n",
      "          \n",
      "        \n",
      "      \n",
      "    \n",
      "    {\\displaystyle R_{0}}\n",
      "   (pronounced R nought or R zero), of an infection can be thought of as the expected number of cases directly generated by one case in a population where all individuals are susceptible to infection. The definition describes the state where no other individuals are infected or immunized (naturally or through vaccination). Some definitions, such as that of the Australian Department of Health, add absence of \"any deliberate intervention in disease transmission\". The basic reproduction number is not to be confused with the effective reproduction number \n",
      "  \n",
      "    \n",
      "      \n",
      "        R\n",
      "      \n",
      "    \n",
      "    {\\displaystyle R}\n",
      "   (usually written \n",
      "  \n",
      "    \n",
      "      \n",
      "        \n",
      "          R\n",
      "          \n",
      "            t\n",
      "          \n",
      "        \n",
      "      \n",
      "    \n",
      "    {\\displaystyle R_{t}}\n",
      "   [t for time], sometimes \n",
      "  \n",
      "    \n",
      "      \n",
      "        \n",
      "          R\n",
      "          \n",
      "            e\n",
      "          \n",
      "        \n",
      "      \n",
      "    \n",
      "    {\\displaystyle R_{e}}\n",
      "  ), which is the number of cases generated in the current state of a population, which does not have to be the uninfected state. Also, it is important to note that \n",
      "  \n",
      "    \n",
      "      \n",
      "        \n",
      "          R\n",
      "          \n",
      "            0\n",
      "          \n",
      "        \n",
      "      \n",
      "    \n",
      "    {\\displaystyle R_{0}}\n",
      "   is a dimensionless number and not a rate, which would have units of time−1, or units of time like doubling time.\n",
      "  \n",
      "    \n",
      "      \n",
      "        \n",
      "          R\n",
      "          \n",
      "            0\n",
      "          \n",
      "        \n",
      "      \n",
      "    \n",
      "    {\\displaystyle R_{0}}\n",
      "   is not a biological constant for a pathogen as it is also affected by other factors such as environmental conditions and the behaviour of the infected population. Furthermore \n",
      "  \n",
      "    \n",
      "      \n",
      "        \n",
      "          R\n",
      "          \n",
      "            0\n",
      "          \n",
      "        \n",
      "      \n",
      "    \n",
      "    {\\displaystyle R_{0}}\n",
      "   values are usually estimated from mathematical models, and the estimated values are dependent on the model used and values of other parameters. Thus values given in the literature only make sense in the given context and it is recommended not to use obsolete values or compare values based on different models. \n",
      "  \n",
      "    \n",
      "      \n",
      "        \n",
      "          R\n",
      "          \n",
      "            0\n",
      "          \n",
      "        \n",
      "      \n",
      "    \n",
      "    {\\displaystyle R_{0}}\n",
      "   does not by itself give an estimate of how fast an infection spreads in the population.\n",
      "The most important uses of \n",
      "  \n",
      "    \n",
      "      \n",
      "        \n",
      "          R\n",
      "          \n",
      "            0\n",
      "          \n",
      "        \n",
      "      \n",
      "    \n",
      "    {\\displaystyle R_{0}}\n",
      "   are determining if an emerging infectious disease can spread in a population and determining what proportion of the population should be immunized through vaccination to eradicate a disease. In commonly used infection models, when \n",
      "  \n",
      "    \n",
      "      \n",
      "        \n",
      "          R\n",
      "          \n",
      "            0\n",
      "          \n",
      "        \n",
      "        >\n",
      "        1\n",
      "      \n",
      "    \n",
      "    {\\displaystyle R_{0}>1}\n",
      "   the infection will be able to start spreading in a population, but not if \n",
      "  \n",
      "    \n",
      "      \n",
      "        \n",
      "          R\n",
      "          \n",
      "            0\n",
      "          \n",
      "        \n",
      "        <\n",
      "        1\n",
      "      \n",
      "    \n",
      "    {\\displaystyle R_{0}<1}\n",
      "  . Generally, the larger the value of \n",
      "  \n",
      "    \n",
      "      \n",
      "        \n",
      "          R\n",
      "          \n",
      "            0\n",
      "          \n",
      "        \n",
      "      \n",
      "    \n",
      "    {\\displaystyle R_{0}}\n",
      "  , the harder it is to control the epidemic. For simple models, the proportion of the population that needs to be effectively immunized (meaning not susceptible to infection) to prevent sustained spread of the infection has to be larger than \n",
      "  \n",
      "    \n",
      "      \n",
      "        1\n",
      "        −\n",
      "        1\n",
      "        \n",
      "          /\n",
      "        \n",
      "        \n",
      "          R\n",
      "          \n",
      "            0\n",
      "          \n",
      "        \n",
      "      \n",
      "    \n",
      "    {\\displaystyle 1-1/R_{0}}\n",
      "  . Conversely, the proportion of the population that remains susceptible to infection in the endemic equilibrium is \n",
      "  \n",
      "    \n",
      "      \n",
      "        1\n",
      "        \n",
      "          /\n",
      "        \n",
      "        \n",
      "          R\n",
      "          \n",
      "            0\n",
      "          \n",
      "        \n",
      "      \n",
      "    \n",
      "    {\\displaystyle 1/R_{0}}\n",
      "  .\n",
      "The basic reproduction number is affected by several factors, including the duration of infectivity of affected people, the infectiousness of the microorganism, and the number of susceptible people in the population that the infected people contact. 0.32769006\n",
      "---\n",
      "The Antonine Plague of 165 to 180 AD, also known as the Plague of Galen (after Galen, the physician who described it), was an ancient pandemic brought to the Roman Empire by troops who were returning from campaigns in the Near East. Scholars have suspected it to have been either smallpox or measles. The plague may have claimed the life of a Roman emperor, Lucius Verus, who died in 169 and was the co-regent of Marcus Aurelius Antoninus, whose family name, Antoninus, has become associated with the pandemic. \n",
      "Ancient sources agree that the plague appeared first during the Roman siege of the Mesopotamian city Seleucia in the winter of 165–166. Ammianus Marcellinus reported that the plague spread to Gaul and to the legions along the Rhine. Eutropius stated that a large population died throughout the empire. According to the contemporary Roman historian Cassius Dio, the disease broke out again nine years later in 189 AD and caused up to 2,000 deaths a day in Rome, one quarter of those who were affected. The total death count has been estimated at 5 million, and the disease killed as much as one third of the population in some areas and devastated the Roman army.Australian sinologist and historian Rafe de Crespigny speculates that the plague may have also broken out in Eastern Han China before 166 because of notices of plagues in Chinese records. The plague affected Roman culture and literature and may have severely affected Indo-Roman trade relations in the Indian Ocean. 0.32110113\n",
      "---\n"
     ]
    }
   ],
   "source": [
    "results = search(\"Which diseases can be transmitted by animals?\", k=10)\n",
    "for result, score in results:\n",
    "    print(result[\"text\"], score)\n",
    "    print(\"---\")"
   ]
  },
  {
   "cell_type": "code",
   "execution_count": null,
   "metadata": {},
   "outputs": [],
   "source": []
  }
 ],
 "metadata": {
  "kernelspec": {
   "display_name": "Python 3.10.7 ('live-project-nlp-text-search-BVZrNjpK')",
   "language": "python",
   "name": "python3"
  },
  "language_info": {
   "codemirror_mode": {
    "name": "ipython",
    "version": 3
   },
   "file_extension": ".py",
   "mimetype": "text/x-python",
   "name": "python",
   "nbconvert_exporter": "python",
   "pygments_lexer": "ipython3",
   "version": "3.10.7"
  },
  "orig_nbformat": 4,
  "vscode": {
   "interpreter": {
    "hash": "278c8a15424c1bdb670dced171f3ac89591734fb1541895bf200056ef77f0fe7"
   }
  }
 },
 "nbformat": 4,
 "nbformat_minor": 2
}
