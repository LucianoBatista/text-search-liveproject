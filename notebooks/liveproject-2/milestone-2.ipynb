{
 "cells": [
  {
   "cell_type": "code",
   "execution_count": null,
   "metadata": {},
   "outputs": [],
   "source": [
    "import json\n",
    "from transformers import DistilBertTokenizer, DistilBertModel\n",
    "import faiss\n",
    "import torch\n",
    "import numpy as np"
   ]
  }
 ],
 "metadata": {
  "kernelspec": {
   "display_name": "Python 3.10.7 ('live-project-nlp-text-search-BVZrNjpK')",
   "language": "python",
   "name": "python3"
  },
  "language_info": {
   "name": "python",
   "version": "3.10.7"
  },
  "orig_nbformat": 4,
  "vscode": {
   "interpreter": {
    "hash": "278c8a15424c1bdb670dced171f3ac89591734fb1541895bf200056ef77f0fe7"
   }
  }
 },
 "nbformat": 4,
 "nbformat_minor": 2
}
