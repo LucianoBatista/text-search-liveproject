{
 "cells": [
  {
   "cell_type": "code",
   "execution_count": 17,
   "metadata": {},
   "outputs": [
    {
     "name": "stdout",
     "output_type": "stream",
     "text": [
      "The autoreload extension is already loaded. To reload it, use:\n",
      "  %reload_ext autoreload\n"
     ]
    }
   ],
   "source": [
    "%load_ext autoreload\n",
    "%autoreload 2\n",
    "\n",
    "import pandas as pd\n",
    "import spacy\n",
    "from spacy.lang.en.stop_words import STOP_WORDS\n",
    "from pathlib import Path\n",
    "import json\n",
    "from src.preprocessing.prepro import TextPrep\n",
    "\n",
    "nlp = spacy.load('en_core_web_sm')"
   ]
  },
  {
   "cell_type": "code",
   "execution_count": 6,
   "metadata": {},
   "outputs": [],
   "source": [
    "DATA_PATH = Path('data/data.json')"
   ]
  },
  {
   "cell_type": "code",
   "execution_count": 8,
   "metadata": {},
   "outputs": [],
   "source": [
    "# loading the data\n",
    "with open(DATA_PATH, 'r') as f:\n",
    "    data = json.load(f)\n"
   ]
  },
  {
   "cell_type": "code",
   "execution_count": 12,
   "metadata": {},
   "outputs": [
    {
     "name": "stdout",
     "output_type": "stream",
     "text": [
      "The dataset has 26 samples\n"
     ]
    }
   ],
   "source": [
    "data_len = len(data)\n",
    "\n",
    "print('The dataset has {} samples'.format(data_len))"
   ]
  },
  {
   "cell_type": "code",
   "execution_count": 22,
   "metadata": {},
   "outputs": [
    {
     "data": {
      "text/plain": [
       "['pandemic', 'greek', 'πᾶν', 'pan', 'δῆμος']"
      ]
     },
     "execution_count": 22,
     "metadata": {},
     "output_type": "execute_result"
    }
   ],
   "source": [
    "text_prep = TextPrep(data[0]['text'])\n",
    "text_prep.lowercasing()\n",
    "text_prep.get_lemmas()\n",
    "text_prep.final_tokens[:5]"
   ]
  },
  {
   "cell_type": "code",
   "execution_count": 23,
   "metadata": {},
   "outputs": [],
   "source": [
    "for wikipedia_obj in data:\n",
    "    wikipedia_text = wikipedia_obj[\"text\"]\n",
    "    wikipedia_prep = TextPrep(wikipedia_text)\n",
    "    wikipedia_prep.lowercasing()\n",
    "    wikipedia_prep.get_lemmas()\n",
    "    wikipedia_obj[\"tokenized_text\"] = wikipedia_prep.final_tokens"
   ]
  },
  {
   "cell_type": "code",
   "execution_count": 25,
   "metadata": {},
   "outputs": [],
   "source": [
    "with open('data/data_preprocessed.json', 'w') as j:\n",
    "    json.dump(data, j)"
   ]
  },
  {
   "cell_type": "code",
   "execution_count": null,
   "metadata": {},
   "outputs": [],
   "source": []
  }
 ],
 "metadata": {
  "kernelspec": {
   "display_name": "Python 3.10.7 ('live-project-nlp-text-search-BVZrNjpK')",
   "language": "python",
   "name": "python3"
  },
  "language_info": {
   "codemirror_mode": {
    "name": "ipython",
    "version": 3
   },
   "file_extension": ".py",
   "mimetype": "text/x-python",
   "name": "python",
   "nbconvert_exporter": "python",
   "pygments_lexer": "ipython3",
   "version": "3.10.7"
  },
  "orig_nbformat": 4,
  "vscode": {
   "interpreter": {
    "hash": "278c8a15424c1bdb670dced171f3ac89591734fb1541895bf200056ef77f0fe7"
   }
  }
 },
 "nbformat": 4,
 "nbformat_minor": 2
}
